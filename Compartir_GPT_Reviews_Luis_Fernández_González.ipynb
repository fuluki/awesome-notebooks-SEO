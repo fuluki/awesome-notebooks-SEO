{
  "nbformat": 4,
  "nbformat_minor": 0,
  "metadata": {
    "colab": {
      "provenance": [],
      "include_colab_link": true
    },
    "kernelspec": {
      "name": "python3",
      "display_name": "Python 3"
    },
    "language_info": {
      "name": "python"
    }
  },
  "cells": [
    {
      "cell_type": "markdown",
      "metadata": {
        "id": "view-in-github",
        "colab_type": "text"
      },
      "source": [
        "<a href=\"https://colab.research.google.com/github/fuluki/awesome-notebooks-SEO/blob/master/Compartir_GPT_Reviews_Luis_Fern%C3%A1ndez_Gonz%C3%A1lez.ipynb\" target=\"_parent\"><img src=\"https://colab.research.google.com/assets/colab-badge.svg\" alt=\"Open In Colab\"/></a>"
      ]
    },
    {
      "cell_type": "code",
      "source": [
        "# Script generado por Luis Fernandez, @HiItsLuis en twitter. Tienes libertad para modificar, mejorar y compartir parte o la totalidad del contenido de este script.\n",
        "# Eso sí, haz un uso responsable del mismo.\n",
        "\n",
        "#Instalamos las dependencias necesarias\n",
        "%%capture\n",
        "!pip install tiktoken openai"
      ],
      "metadata": {
        "id": "ZQdUiYo1DPL2"
      },
      "execution_count": null,
      "outputs": []
    },
    {
      "cell_type": "code",
      "source": [
        "# Import de librerías\n",
        "import tiktoken\n",
        "import requests\n",
        "from bs4 import BeautifulSoup\n",
        "import openai"
      ],
      "metadata": {
        "id": "LqrhHLo_F7Yx"
      },
      "execution_count": null,
      "outputs": []
    },
    {
      "cell_type": "code",
      "source": [
        "#RELLENAR: Añade aquí tu API de OpenAI\n",
        "openai.api_key = \"TU-API\"\n",
        "model = \"gpt-3.5-turbo\"\n",
        "max_tokens = 2000\n",
        "\n",
        "# Introduce la URL del producto a analizar\n",
        "url = 'https://www.thomann.de/es/harley_benton_hb10g_guitar_combo.htm'"
      ],
      "metadata": {
        "id": "LSNpGtElEVpE"
      },
      "execution_count": null,
      "outputs": []
    },
    {
      "cell_type": "markdown",
      "source": [
        "## Scraping"
      ],
      "metadata": {
        "id": "mbqYpWNZSk2Z"
      }
    },
    {
      "cell_type": "code",
      "source": [
        "# Si queremos trabajar en bulk tenemos que usar proxies y un generador de headers como https://pypi.org/project/fake-headers/\n",
        "HEADERS = ({'User-Agent':\n",
        "\t\t\t'Mozilla/5.0 (Windows NT 10.0; Win64; x64) \\\n",
        "\t\t\tAppleWebKit/537.36 (KHTML, like Gecko) \\\n",
        "\t\t\tChrome/90.0.4430.212 Safari/537.36',\n",
        "\t\t\t'Accept-Language': 'es-ES, en;q=0.5'})\n",
        "\n",
        "\n",
        "def get_html(url):\n",
        "  # Send a GET request to the product page\n",
        "  response = requests.get(url, headers=HEADERS)\n",
        "  soup = BeautifulSoup(response.content, 'lxml')\n",
        "  return (soup)\n",
        "\n",
        "\n",
        "def get_product_name(soup):\n",
        "  product_name = soup.select('h1')[0].text.strip()\n",
        "  return(product_name)\n",
        "\n",
        "def get_reviews(soup):\n",
        "    reviews = []\n",
        "    review_divs = soup.find_all(\"div\", class_=\"review-text\")\n",
        "    for review_div in review_divs:\n",
        "        review_text = review_div.text.strip()\n",
        "        if (review_text != \"\"):\n",
        "          reviews.append(review_text)\n",
        "    return reviews\n"
      ],
      "metadata": {
        "id": "g6ME6GkaCAic"
      },
      "execution_count": null,
      "outputs": []
    },
    {
      "cell_type": "code",
      "source": [
        "soup = get_html(url)"
      ],
      "metadata": {
        "id": "CY8nRTvIRdLv"
      },
      "execution_count": null,
      "outputs": []
    },
    {
      "cell_type": "code",
      "source": [
        "product_name = get_product_name(soup)\n",
        "reviews = get_reviews(soup)\n",
        "\n",
        "print(product_name)\n",
        "print(f'Extraidas {len(reviews)} reseñas:')\n",
        "print(\"----------------\")\n",
        "for review in reviews:\n",
        "  print(review)\n",
        "  print(\"----------------\")"
      ],
      "metadata": {
        "colab": {
          "base_uri": "https://localhost:8080/"
        },
        "id": "5eVOYbmYCSvs",
        "outputId": "adc48bf5-d8d2-42c1-9b1c-afc884f5c38a"
      },
      "execution_count": null,
      "outputs": [
        {
          "output_type": "stream",
          "name": "stdout",
          "text": [
            "REVIEW: Este ha sido mi primer amplificador de guitarra eléctrica que he tenido, el cual compré junto a una Epiphone Les Paul. Lo he utilizado en casa. Su volumen es más que suficiente para prácticar en casa, nunca lo pondrás a máximo volumen a no ser que quieras iniciar una guerra en tu vecindario. Pros del amplificador: precio principalmente, manejabilidad (es pequeño y ligero) materiales resistentes y en general robusto después de dos años no ha tenido ningún fallo, avería ni si quiera roces estéticos. Los pods son precisos, el canal limpio es muy correcto, la distorsión es correcta para rock, punk, pasada del 8 la ganancia se vuelve horrorosa. Para metal se queda corto el ampli en sí. Es muy agradecido con pedales y pedaleras multiefectos, exprimen el ampli a un nivel que parece impropio de uno tan barato. Como ampli de principante es recomendable ya que no inviertes demasiado y es correcto en general, los pedales alargan su vida útil en lo que exploras diferentes sonidos hasta elegir tu estilo. Es un ampli de iniciación en el mundo del sonido de la guitarra eléctrica a buen precio y que por lo que pagas te da un buen servicio.\n",
            "REVIEW: Hola, ya tras usar varios productor Harley Benton. Entre ellos dos amplis hermanos mayores que este. Ví que sus virtudes estan muy por encima de otros amplis con sus mismas carácteristicas, que mis compañeros utilizaban.  A la hora de comprar un equipo básico para mi hija que se iniciara con la guitarra eléctrica. No dudé en comprar una ST Mini Harley benton y este pequeño ampli.  La sorpresa fue muy buena, incluso le noté mejor calidad de sonido que la prueba que ponen en la tienda. Su peso esta muy bien para sus características y el manejo muy fácil e intuitivo. No ocupa casi espacio y muy fácil de colocar donde quieras. Va bien protegido e inspira cinfianza ante alguna caida ocasional. Para usar con cascos me parece ideal y con la conexión para introducir otros sonidos (como un mp4), va de cine.  Si hay que poner un pero, es no cubrir la parte posterior, que para manos inexpertas puede ser un problema  En definitiva, salvo la tapa posterior, es perfecto y con precio excelente.\n",
            "REVIEW: Amplificador pequeño y ligero, bastante robusto en su construcción y con volumen más que suficiente para practicar en casa. Perfecto para iniciarte con la guitarra eléctrica. No tiene un sonido especialmente bueno, pero es comprensible por su precio. Puedes ajustar graves, medios y agudos a tu gusto y una distorsión con ganancia también ajustable. Tiene salida de auriculares para poder tocar sin molestar a nadie y entrada de jack 3,5, por si quieres reproducir música en él. Si no buscas una gran calidad de sonido, este es un amplificador sencillo, funcional y fácil de mover de un sitio para otro.\n",
            "REVIEW: Un gran amplificador si quieres empezar y no quieres gastarte una gran suma de dinero. Pros:Es muy pequeño y te cabe en cualquier sitio, la parte de atrás esta abierta y puedes guardar el cable en el mismo amplificador por lo que se ahorra espacio. Tiene una gran resistencia, unas juntas bien reforzadas y muy bien atornilladas, se me ha llegado a caer un par de veces desde alturas considerables y no pasarle nada. Por ultimo su gran diseño con piel (falsa) pero que aun así le da una gran presencia a este amplificador.  Contras: al principio iba mas o menos bien, solo hacia un ruido cuando tocaba alguna parte metálica de la guitarra o ciertos puntos del amplificador. El mismo día por la mañana lo probé otra vez y hacia ruido. Todos los amplificadores hacen un pequeño ruido, este lo hace muy alto, pero que se le va a hacer se baja el volumen y ya está. Finalmente después de un tiempo el sonido se suavizo y ya no suena así, suena normal o apenas comparable con el sonido normal. Otro de los inconvenientes es que la parte de atrás está desprotegida, no es nada malo de hecho se puede guardar el cable dentro y así ahorras espacio, pero lo veo mas como una entrada de polvo y otras cosas que pueden alterar el circuito.\n",
            "Harley Benton HB-10G\n",
            "Extraidas 4 reseñas:\n",
            "----------------\n",
            "Este ha sido mi primer amplificador de guitarra eléctrica que he tenido, el cual compré junto a una Epiphone Les Paul. Lo he utilizado en casa. Su volumen es más que suficiente para prácticar en casa, nunca lo pondrás a máximo volumen a no ser que quieras iniciar una guerra en tu vecindario. Pros del amplificador: precio principalmente, manejabilidad (es pequeño y ligero) materiales resistentes y en general robusto después de dos años no ha tenido ningún fallo, avería ni si quiera roces estéticos. Los pods son precisos, el canal limpio es muy correcto, la distorsión es correcta para rock, punk, pasada del 8 la ganancia se vuelve horrorosa. Para metal se queda corto el ampli en sí. Es muy agradecido con pedales y pedaleras multiefectos, exprimen el ampli a un nivel que parece impropio de uno tan barato. Como ampli de principante es recomendable ya que no inviertes demasiado y es correcto en general, los pedales alargan su vida útil en lo que exploras diferentes sonidos hasta elegir tu estilo. Es un ampli de iniciación en el mundo del sonido de la guitarra eléctrica a buen precio y que por lo que pagas te da un buen servicio.\n",
            "----------------\n",
            "Hola, ya tras usar varios productor Harley Benton. Entre ellos dos amplis hermanos mayores que este. Ví que sus virtudes estan muy por encima de otros amplis con sus mismas carácteristicas, que mis compañeros utilizaban.  A la hora de comprar un equipo básico para mi hija que se iniciara con la guitarra eléctrica. No dudé en comprar una ST Mini Harley benton y este pequeño ampli.  La sorpresa fue muy buena, incluso le noté mejor calidad de sonido que la prueba que ponen en la tienda. Su peso esta muy bien para sus características y el manejo muy fácil e intuitivo. No ocupa casi espacio y muy fácil de colocar donde quieras. Va bien protegido e inspira cinfianza ante alguna caida ocasional. Para usar con cascos me parece ideal y con la conexión para introducir otros sonidos (como un mp4), va de cine.  Si hay que poner un pero, es no cubrir la parte posterior, que para manos inexpertas puede ser un problema  En definitiva, salvo la tapa posterior, es perfecto y con precio excelente.\n",
            "----------------\n",
            "Amplificador pequeño y ligero, bastante robusto en su construcción y con volumen más que suficiente para practicar en casa. Perfecto para iniciarte con la guitarra eléctrica. No tiene un sonido especialmente bueno, pero es comprensible por su precio. Puedes ajustar graves, medios y agudos a tu gusto y una distorsión con ganancia también ajustable. Tiene salida de auriculares para poder tocar sin molestar a nadie y entrada de jack 3,5, por si quieres reproducir música en él. Si no buscas una gran calidad de sonido, este es un amplificador sencillo, funcional y fácil de mover de un sitio para otro.\n",
            "----------------\n",
            "Un gran amplificador si quieres empezar y no quieres gastarte una gran suma de dinero. Pros:Es muy pequeño y te cabe en cualquier sitio, la parte de atrás esta abierta y puedes guardar el cable en el mismo amplificador por lo que se ahorra espacio. Tiene una gran resistencia, unas juntas bien reforzadas y muy bien atornilladas, se me ha llegado a caer un par de veces desde alturas considerables y no pasarle nada. Por ultimo su gran diseño con piel (falsa) pero que aun así le da una gran presencia a este amplificador.  Contras: al principio iba mas o menos bien, solo hacia un ruido cuando tocaba alguna parte metálica de la guitarra o ciertos puntos del amplificador. El mismo día por la mañana lo probé otra vez y hacia ruido. Todos los amplificadores hacen un pequeño ruido, este lo hace muy alto, pero que se le va a hacer se baja el volumen y ya está. Finalmente después de un tiempo el sonido se suavizo y ya no suena así, suena normal o apenas comparable con el sonido normal. Otro de los inconvenientes es que la parte de atrás está desprotegida, no es nada malo de hecho se puede guardar el cable dentro y así ahorras espacio, pero lo veo mas como una entrada de polvo y otras cosas que pueden alterar el circuito.\n",
            "----------------\n"
          ]
        }
      ]
    },
    {
      "cell_type": "markdown",
      "source": [
        "## Funciones de apoyo al prompt"
      ],
      "metadata": {
        "id": "nEVChc8VSpMQ"
      }
    },
    {
      "cell_type": "code",
      "source": [
        "def num_tokens_from_messages(messages, model=\"gpt-3.5-turbo-0301\"):\n",
        "  \"\"\"Returns the number of tokens used by a list of messages.\"\"\"\n",
        "  try:\n",
        "      encoding = tiktoken.encoding_for_model(model)\n",
        "  except KeyError:\n",
        "      encoding = tiktoken.get_encoding(\"cl100k_base\")\n",
        "  if model == \"gpt-3.5-turbo-0301\":  # note: future models may deviate from this\n",
        "      num_tokens = 0\n",
        "      for message in messages:\n",
        "          num_tokens += 4  # every message follows <im_start>{role/name}\\n{content}<im_end>\\n\n",
        "          for key, value in message.items():\n",
        "              num_tokens += len(encoding.encode(value))\n",
        "              if key == \"name\":  # if there's a name, the role is omitted\n",
        "                  num_tokens += -1  # role is always required and always 1 token\n",
        "      num_tokens += 2  # every reply is primed with <im_start>assistant\n",
        "      return num_tokens\n",
        "  else:\n",
        "      raise NotImplementedError(f\"\"\"num_tokens_from_messages() is not presently implemented for model {model}.\n",
        "  See https://github.com/openai/openai-python/blob/main/chatml.md for information on how messages are converted to tokens.\"\"\")\n",
        "\n",
        "\n",
        "def num_tokens_from_string(string: str, encoding_name: str) -> int:\n",
        "    \"\"\"Returns the number of tokens in a text string.\"\"\"\n",
        "    encoding = tiktoken.get_encoding(encoding_name)\n",
        "    num_tokens = len(encoding.encode(string))\n",
        "    return num_tokens\n",
        "\n",
        "def limit_reviews_tokens(reviews, max_tokens=1000):\n",
        "  tokens_sum = 0\n",
        "  final_reviews = []\n",
        "\n",
        "  for review in reviews:\n",
        "    token_number = num_tokens_from_string(review, \"cl100k_base\")\n",
        "    if tokens_sum + token_number >= max_tokens:\n",
        "        break\n",
        "    final_reviews.append(review)\n",
        "    tokens_sum += token_number\n",
        "  print(f'Utilizando {len(final_reviews)} reseñas del total de {len(reviews)} reseñas')\n",
        "  return final_reviews\n",
        "\n",
        "def format_reviews_for_prompt(reviews):\n",
        "  formatted_reviews = \"\"\n",
        "  for idx, review in enumerate(reviews):\n",
        "    formatted_reviews += (f'{idx+1}. {review} \\n')\n",
        "  return formatted_reviews"
      ],
      "metadata": {
        "id": "K87GEP5EDYyD"
      },
      "execution_count": null,
      "outputs": []
    },
    {
      "cell_type": "code",
      "source": [
        "final_reviews = limit_reviews_tokens(reviews, max_tokens)\n",
        "\n",
        "formatted_reviews = format_reviews_for_prompt(final_reviews)\n",
        "\n",
        "\n",
        "prompt = f'Resume el siguiente listado de Reseñas para \"{product_name}\" indicando todos los pros y contras basándote en las siguientes reseñas: \\n\\n {formatted_reviews} \\n\\n Escribe tu respuesta únicamente en ESPAÑOL.'\n",
        "\n",
        "messages = [\n",
        "  {\"role\": \"system\", \"content\": \"Eres un experto en analizando reseñas y opiniones de productos\"},\n",
        "  {\"role\": \"user\", \"content\": prompt},\n",
        "]\n",
        "\n",
        "\n",
        "\n",
        "# 1000 tokens a 0.0002$\n",
        "print(f'El mensaje tiene {num_tokens_from_messages(messages, \"gpt-3.5-turbo-0301\")} tokens y un coste de ${round(num_tokens_from_messages(messages, \"gpt-3.5-turbo-0301\") / 1000 * 0.0002, 5)}.')"
      ],
      "metadata": {
        "colab": {
          "base_uri": "https://localhost:8080/"
        },
        "id": "8rWrA6vFEf2F",
        "outputId": "93a88242-6a22-4d25-b6b1-7cf5deb8efde"
      },
      "execution_count": null,
      "outputs": [
        {
          "output_type": "stream",
          "name": "stdout",
          "text": [
            "Utilizando 4 reseñas del total de 4 reseñas\n",
            "El mensaje tiene 1121 tokens y un coste de $0.00022.\n"
          ]
        }
      ]
    },
    {
      "cell_type": "code",
      "source": [
        "print(prompt)"
      ],
      "metadata": {
        "colab": {
          "base_uri": "https://localhost:8080/"
        },
        "id": "zZfwDEBzJDme",
        "outputId": "8ff17f4f-f61a-40fa-acd1-9d01cc64c66e"
      },
      "execution_count": null,
      "outputs": [
        {
          "output_type": "stream",
          "name": "stdout",
          "text": [
            "Resume el siguiente listado de Reseñas para \"Harley Benton HB-10G\" indicando todos los pros y contras basándote en las siguientes reseñas: \n",
            "\n",
            " 1. Este ha sido mi primer amplificador de guitarra eléctrica que he tenido, el cual compré junto a una Epiphone Les Paul. Lo he utilizado en casa. Su volumen es más que suficiente para prácticar en casa, nunca lo pondrás a máximo volumen a no ser que quieras iniciar una guerra en tu vecindario. Pros del amplificador: precio principalmente, manejabilidad (es pequeño y ligero) materiales resistentes y en general robusto después de dos años no ha tenido ningún fallo, avería ni si quiera roces estéticos. Los pods son precisos, el canal limpio es muy correcto, la distorsión es correcta para rock, punk, pasada del 8 la ganancia se vuelve horrorosa. Para metal se queda corto el ampli en sí. Es muy agradecido con pedales y pedaleras multiefectos, exprimen el ampli a un nivel que parece impropio de uno tan barato. Como ampli de principante es recomendable ya que no inviertes demasiado y es correcto en general, los pedales alargan su vida útil en lo que exploras diferentes sonidos hasta elegir tu estilo. Es un ampli de iniciación en el mundo del sonido de la guitarra eléctrica a buen precio y que por lo que pagas te da un buen servicio. \n",
            "2. Hola, ya tras usar varios productor Harley Benton. Entre ellos dos amplis hermanos mayores que este. Ví que sus virtudes estan muy por encima de otros amplis con sus mismas carácteristicas, que mis compañeros utilizaban.  A la hora de comprar un equipo básico para mi hija que se iniciara con la guitarra eléctrica. No dudé en comprar una ST Mini Harley benton y este pequeño ampli.  La sorpresa fue muy buena, incluso le noté mejor calidad de sonido que la prueba que ponen en la tienda. Su peso esta muy bien para sus características y el manejo muy fácil e intuitivo. No ocupa casi espacio y muy fácil de colocar donde quieras. Va bien protegido e inspira cinfianza ante alguna caida ocasional. Para usar con cascos me parece ideal y con la conexión para introducir otros sonidos (como un mp4), va de cine.  Si hay que poner un pero, es no cubrir la parte posterior, que para manos inexpertas puede ser un problema  En definitiva, salvo la tapa posterior, es perfecto y con precio excelente. \n",
            "3. Amplificador pequeño y ligero, bastante robusto en su construcción y con volumen más que suficiente para practicar en casa. Perfecto para iniciarte con la guitarra eléctrica. No tiene un sonido especialmente bueno, pero es comprensible por su precio. Puedes ajustar graves, medios y agudos a tu gusto y una distorsión con ganancia también ajustable. Tiene salida de auriculares para poder tocar sin molestar a nadie y entrada de jack 3,5, por si quieres reproducir música en él. Si no buscas una gran calidad de sonido, este es un amplificador sencillo, funcional y fácil de mover de un sitio para otro. \n",
            "4. Un gran amplificador si quieres empezar y no quieres gastarte una gran suma de dinero. Pros:Es muy pequeño y te cabe en cualquier sitio, la parte de atrás esta abierta y puedes guardar el cable en el mismo amplificador por lo que se ahorra espacio. Tiene una gran resistencia, unas juntas bien reforzadas y muy bien atornilladas, se me ha llegado a caer un par de veces desde alturas considerables y no pasarle nada. Por ultimo su gran diseño con piel (falsa) pero que aun así le da una gran presencia a este amplificador.  Contras: al principio iba mas o menos bien, solo hacia un ruido cuando tocaba alguna parte metálica de la guitarra o ciertos puntos del amplificador. El mismo día por la mañana lo probé otra vez y hacia ruido. Todos los amplificadores hacen un pequeño ruido, este lo hace muy alto, pero que se le va a hacer se baja el volumen y ya está. Finalmente después de un tiempo el sonido se suavizo y ya no suena así, suena normal o apenas comparable con el sonido normal. Otro de los inconvenientes es que la parte de atrás está desprotegida, no es nada malo de hecho se puede guardar el cable dentro y así ahorras espacio, pero lo veo mas como una entrada de polvo y otras cosas que pueden alterar el circuito. \n",
            " \n",
            "\n",
            " Escribe tu respuesta únicamente en ESPAÑOL.\n"
          ]
        }
      ]
    },
    {
      "cell_type": "markdown",
      "source": [
        "## Llamada a la API de OpenAI"
      ],
      "metadata": {
        "id": "7h70Mp3RSvAP"
      }
    },
    {
      "cell_type": "code",
      "source": [
        "response = openai.ChatCompletion.create(\n",
        "  model=model,\n",
        "  messages=messages,\n",
        "  temperature=0.7,\n",
        ")\n"
      ],
      "metadata": {
        "id": "yEh9s7BvF3At"
      },
      "execution_count": null,
      "outputs": []
    },
    {
      "cell_type": "code",
      "source": [
        "resultado = (response.choices[0].message[\"content\"])\n",
        "print(resultado)"
      ],
      "metadata": {
        "colab": {
          "base_uri": "https://localhost:8080/"
        },
        "id": "OSRoy4LrFDDY",
        "outputId": "7b8da4e2-293f-4c86-bd77-c403befbaa58"
      },
      "execution_count": null,
      "outputs": [
        {
          "output_type": "stream",
          "name": "stdout",
          "text": [
            "Pros:\n",
            "- Precio muy asequible.\n",
            "- Robusto y resistente.\n",
            "- Pequeño y ligero, fácil de manejar y transportar.\n",
            "- Pods precisos y canal limpio correcto.\n",
            "- Compatible con pedales y pedaleras multiefectos.\n",
            "- Buen servicio para iniciarse en el mundo de la guitarra eléctrica.\n",
            "\n",
            "Contras:\n",
            "- No es adecuado para géneros musicales muy exigentes, como el metal.\n",
            "- La ganancia se vuelve horrorosa cuando se pasa del 8.\n",
            "- La tapa posterior no está protegida y puede acumular polvo y otros elementos.\n",
            "- Algunas unidades pueden generar ruido.\n",
            "- El sonido no es excepcional, pero es comprensible por su precio.\n"
          ]
        }
      ]
    }
  ]
}